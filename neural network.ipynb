{
 "cells": [
  {
   "cell_type": "code",
   "execution_count": 1,
   "metadata": {},
   "outputs": [],
   "source": [
    "import numpy as np\n",
    "\n",
    "def sigmoid(x):\n",
    "    return 1 / (1 + np.exp(-x))"
   ]
  },
  {
   "cell_type": "code",
   "execution_count": 48,
   "metadata": {},
   "outputs": [],
   "source": [
    "input_layer = np.array([[0,0,1] , [1,1,1] ,[1,0,1] ,[0,1,1] , [0,0,0] , [1,1,0]])\n",
    "output_layer = np.array([[0,1,0,0,0,0]]).T"
   ]
  },
  {
   "cell_type": "code",
   "execution_count": 49,
   "metadata": {},
   "outputs": [
    {
     "data": {
      "text/plain": [
       "(6, 3)"
      ]
     },
     "execution_count": 49,
     "metadata": {},
     "output_type": "execute_result"
    }
   ],
   "source": [
    "input_layer.shape"
   ]
  },
  {
   "cell_type": "code",
   "execution_count": 50,
   "metadata": {},
   "outputs": [
    {
     "data": {
      "text/plain": [
       "(6, 1)"
      ]
     },
     "execution_count": 50,
     "metadata": {},
     "output_type": "execute_result"
    }
   ],
   "source": [
    "output_layer.shape"
   ]
  },
  {
   "cell_type": "code",
   "execution_count": 51,
   "metadata": {},
   "outputs": [
    {
     "name": "stdout",
     "output_type": "stream",
     "text": [
      "[2.33234495e-09 9.97702132e-01 1.00530408e-03 1.00530408e-03\n",
      " 5.40570968e-15 1.00530735e-03] -32.852038702097566\n",
      "[12.97521951 12.97521951 12.97521625]\n"
     ]
    }
   ],
   "source": [
    "np.random.seed(1)\n",
    "weight = 2 * np.random.random((3,1)) -1\n",
    "b = 0\n",
    "\n",
    "for iteration in range(7000):\n",
    "    predicted_output_layer = sigmoid(np.dot(input_layer , weight) + b )\n",
    "    weight = weight - np.dot(input_layer.T , predicted_output_layer - output_layer)\n",
    "    b= b - np.sum(predicted_output_layer - output_layer)\n",
    "\n",
    "print(predicted_output_layer.ravel() , b )\n",
    "print(weight.ravel())"
   ]
  },
  {
   "cell_type": "code",
   "execution_count": 52,
   "metadata": {},
   "outputs": [
    {
     "data": {
      "text/plain": [
       "array([[0.00100516]])"
      ]
     },
     "execution_count": 52,
     "metadata": {},
     "output_type": "execute_result"
    }
   ],
   "source": [
    "sigmoid(np.dot(np.array([[1,1,0]]) , weight) + b )"
   ]
  },
  {
   "cell_type": "code",
   "execution_count": 6,
   "metadata": {},
   "outputs": [
    {
     "name": "stdout",
     "output_type": "stream",
     "text": [
      "[4.15457637e-13 9.98909773e-01 1.89487948e-05 2.00880340e-05\n",
      " 2.67129305e-03] -5.924137869907578\n",
      "[ 17.63671574  17.69509973 -22.58582678]\n"
     ]
    }
   ],
   "source": [
    "np.random.seed(1)\n",
    "weight = 2 * np.random.random((3,1)) -1\n",
    "b = 100\n",
    "\n",
    "for iteration in range(700):\n",
    "    predicted_output_layer = sigmoid(np.dot(input_layer , weight) + b )\n",
    "    weight = weight - np.dot(input_layer.T , predicted_output_layer - output_layer)\n",
    "    b= b - np.sum(predicted_output_layer - output_layer)\n",
    "\n",
    "print(predicted_output_layer.ravel() , b )\n",
    "print(weight.ravel())"
   ]
  },
  {
   "cell_type": "code",
   "execution_count": 7,
   "metadata": {},
   "outputs": [
    {
     "name": "stdout",
     "output_type": "stream",
     "text": [
      "[8.57133328e-38 1.00000000e+00 2.93383674e-04 2.93383674e-04\n",
      " 1.61639839e-60] -137.67549188648593\n",
      "[77.21578094 77.21578094 52.32450811]\n"
     ]
    }
   ],
   "source": [
    "np.random.seed(1)\n",
    "weight = np.array([[100],[100],[100]])\n",
    "b = -90\n",
    "\n",
    "for iteration in range(700):\n",
    "    predicted_output_layer = sigmoid(np.dot(input_layer , weight) + b )\n",
    "    weight = weight - np.dot(input_layer.T , predicted_output_layer - output_layer)\n",
    "    b= b - np.sum(predicted_output_layer - output_layer)\n",
    "\n",
    "print(predicted_output_layer.ravel() , b )\n",
    "print(weight.ravel())"
   ]
  },
  {
   "cell_type": "code",
   "execution_count": 8,
   "metadata": {},
   "outputs": [
    {
     "name": "stdout",
     "output_type": "stream",
     "text": [
      "[1.08422602e-28 1.00000000e+00 3.02760611e-04 3.02760611e-04\n",
      " 7.04333227e-22] -48.70539617511979\n",
      "[ 56.28894814  56.28894814 -15.68733108]\n"
     ]
    }
   ],
   "source": [
    "np.random.seed(1)\n",
    "weight = np.array([[100],[100],[100]])\n",
    "b = 90\n",
    "\n",
    "for iteration in range(700):\n",
    "    predicted_output_layer = sigmoid(np.dot(input_layer , weight) + b )\n",
    "    weight = weight - np.dot(input_layer.T , predicted_output_layer - output_layer)\n",
    "    b= b - np.sum(predicted_output_layer - output_layer)\n",
    "\n",
    "print(predicted_output_layer.ravel() , b )\n",
    "print(weight.ravel())"
   ]
  },
  {
   "cell_type": "code",
   "execution_count": 9,
   "metadata": {},
   "outputs": [],
   "source": [
    "from sklearn.datasets import load_digits , make_blobs\n",
    "digits = load_digits()\n"
   ]
  },
  {
   "cell_type": "code",
   "execution_count": 10,
   "metadata": {},
   "outputs": [
    {
     "data": {
      "text/plain": [
       "dict_keys(['data', 'target', 'frame', 'feature_names', 'target_names', 'images', 'DESCR'])"
      ]
     },
     "execution_count": 10,
     "metadata": {},
     "output_type": "execute_result"
    }
   ],
   "source": [
    "digits.keys()"
   ]
  },
  {
   "cell_type": "code",
   "execution_count": 11,
   "metadata": {},
   "outputs": [
    {
     "data": {
      "text/plain": [
       "array([0, 1, 2, ..., 8, 9, 8])"
      ]
     },
     "execution_count": 11,
     "metadata": {},
     "output_type": "execute_result"
    }
   ],
   "source": [
    "digits.target"
   ]
  },
  {
   "cell_type": "code",
   "execution_count": 12,
   "metadata": {},
   "outputs": [],
   "source": [
    "import matplotlib.pyplot as plt\n",
    "import pandas as pd"
   ]
  },
  {
   "cell_type": "code",
   "execution_count": 13,
   "metadata": {},
   "outputs": [
    {
     "ename": "SyntaxError",
     "evalue": "invalid syntax (<ipython-input-13-9ad215d47a02>, line 1)",
     "output_type": "error",
     "traceback": [
      "\u001b[1;36m  File \u001b[1;32m\"<ipython-input-13-9ad215d47a02>\"\u001b[1;36m, line \u001b[1;32m1\u001b[0m\n\u001b[1;33m    digits.data[0].\u001b[0m\n\u001b[1;37m                   ^\u001b[0m\n\u001b[1;31mSyntaxError\u001b[0m\u001b[1;31m:\u001b[0m invalid syntax\n"
     ]
    }
   ],
   "source": [
    "digits.data[0]."
   ]
  },
  {
   "cell_type": "code",
   "execution_count": null,
   "metadata": {},
   "outputs": [],
   "source": []
  },
  {
   "cell_type": "code",
   "execution_count": null,
   "metadata": {},
   "outputs": [],
   "source": [
    "df = pd.DataFrame(digits.data)\n",
    "df.head()"
   ]
  },
  {
   "cell_type": "code",
   "execution_count": null,
   "metadata": {},
   "outputs": [],
   "source": [
    "df[\"target\"] = digits.target\n",
    "df.target.value_counts()"
   ]
  },
  {
   "cell_type": "code",
   "execution_count": null,
   "metadata": {},
   "outputs": [],
   "source": [
    "from sklearn.model_selection import train_test_split"
   ]
  },
  {
   "cell_type": "code",
   "execution_count": null,
   "metadata": {},
   "outputs": [],
   "source": [
    "x_train , x_test , y_train , y_test = train_test_split(df.drop(\"target\",axis=1), df.target , test_size=0.3 , stratify=df.target ) "
   ]
  },
  {
   "cell_type": "code",
   "execution_count": null,
   "metadata": {},
   "outputs": [],
   "source": [
    "y_train.value_counts()"
   ]
  },
  {
   "cell_type": "code",
   "execution_count": null,
   "metadata": {},
   "outputs": [],
   "source": [
    "y_train_df = pd.DataFrame(y_train)\n",
    "y_train_df.head()"
   ]
  },
  {
   "cell_type": "code",
   "execution_count": null,
   "metadata": {},
   "outputs": [],
   "source": [
    "op_layer = pd.get_dummies(y_train_df.target).T\n",
    "op_layer"
   ]
  },
  {
   "cell_type": "code",
   "execution_count": null,
   "metadata": {},
   "outputs": [],
   "source": []
  },
  {
   "cell_type": "code",
   "execution_count": null,
   "metadata": {},
   "outputs": [],
   "source": []
  },
  {
   "cell_type": "code",
   "execution_count": null,
   "metadata": {},
   "outputs": [],
   "source": [
    "input_layer = x_train\n",
    "output_layer = op_layer\n",
    "\n",
    "np.random.seed(1)\n",
    "weight = 2 * np.random.random((64,1)) -1\n",
    "b = 90\n",
    "\n",
    "for iteration in range(1):\n",
    "    predicted_output_layer = sigmoid(np.dot(input_layer , weight) + b )\n",
    "    weight = weight - np.dot(input_layer.T , predicted_output_layer - output_layer)\n",
    "    b= b - np.sum(predicted_output_layer - output_layer)\n",
    "\n",
    "print(predicted_output_layer.ravel() , b )\n",
    "print(weight.ravel())"
   ]
  },
  {
   "cell_type": "code",
   "execution_count": null,
   "metadata": {},
   "outputs": [],
   "source": [
    "input_layer.shape , weight.shape"
   ]
  },
  {
   "cell_type": "code",
   "execution_count": null,
   "metadata": {},
   "outputs": [],
   "source": []
  }
 ],
 "metadata": {
  "kernelspec": {
   "display_name": "Python 3",
   "language": "python",
   "name": "python3"
  },
  "language_info": {
   "codemirror_mode": {
    "name": "ipython",
    "version": 3
   },
   "file_extension": ".py",
   "mimetype": "text/x-python",
   "name": "python",
   "nbconvert_exporter": "python",
   "pygments_lexer": "ipython3",
   "version": "3.8.3"
  }
 },
 "nbformat": 4,
 "nbformat_minor": 4
}
